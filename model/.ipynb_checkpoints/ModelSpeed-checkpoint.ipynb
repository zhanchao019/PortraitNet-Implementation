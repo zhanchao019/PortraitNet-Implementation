{
 "cells": [
  {
   "cell_type": "code",
   "execution_count": 1,
   "metadata": {},
   "outputs": [],
   "source": [
    "import time\n",
    "import torch\n",
    "import torch.nn as nn\n",
    "import torch.backends.cudnn as cudnn\n",
    "import torchvision.models as models\n",
    "from torch.autograd import Variable\n",
    "import os"
   ]
  },
  {
   "cell_type": "code",
   "execution_count": 2,
   "metadata": {},
   "outputs": [],
   "source": [
    "def speed(model, name, height=224, width=224, channel=3):\n",
    "    t0 = time.time()\n",
    "    input = torch.rand(1, channel, height, width)\n",
    "    input = Variable(input, volatile = True).cuda()\n",
    "    t1 = time.time()\n",
    "    for i in range(1000):\n",
    "        model(input)\n",
    "    t2 = time.time()\n",
    "    print('%10s : %f' % (name, (t2 - t1)/1000))"
   ]
  },
  {
   "cell_type": "code",
   "execution_count": 4,
   "metadata": {},
   "outputs": [
    {
     "name": "stdout",
     "output_type": "stream",
     "text": [
      "model_BiSeNet : 0.002729\n",
      "model_BiSeNet : 0.004941\n",
      "model_Enet : 0.009020\n",
      "model_portraitfcn : 0.019343\n",
      "model_mobilenetv2_seg_small : 0.004895\n"
     ]
    }
   ],
   "source": [
    "import model_BiSeNet as modellib\n",
    "net_BiSeNet = modellib.BiSeNet(n_class=2, useUpsample=True, useDeconvGroup=True).cuda()\n",
    "speed(net_BiSeNet, \"model_BiSeNet\")\n",
    "\n",
    "import model_BiSeNet as modellib\n",
    "net_BiSeNet = modellib.BiSeNet(n_class=2, useUpsample=True, useDeconvGroup=True).cuda()\n",
    "speed(net_BiSeNet, \"model_BiSeNet\", height=448, width=448)\n",
    "\n",
    "import model_enet as modellib\n",
    "net_enet = modellib.ENet(n_class=2).cuda()\n",
    "speed(net_enet, \"model_Enet\")\n",
    "\n",
    "import model_portraitfcn as modellib\n",
    "net_portraitfcn = modellib.PortraitFCNPlus().cuda()\n",
    "speed(net_portraitfcn, \"model_portraitfcn\", channel=6)\n",
    "\n",
    "import model_mobilenetv2_seg_small as modellib\n",
    "net_mobilenentv2 = modellib.MobileNetV2(n_class=2, useUpsample=True, useDeconvGroup=True).cuda()\n",
    "speed(net_mobilenentv2, \"model_mobilenetv2_seg_small\")"
   ]
  },
  {
   "cell_type": "code",
   "execution_count": null,
   "metadata": {},
   "outputs": [],
   "source": []
  }
 ],
 "metadata": {
  "kernelspec": {
   "display_name": "Python 2",
   "language": "python",
   "name": "python2"
  },
  "language_info": {
   "codemirror_mode": {
    "name": "ipython",
    "version": 2
   },
   "file_extension": ".py",
   "mimetype": "text/x-python",
   "name": "python",
   "nbconvert_exporter": "python",
   "pygments_lexer": "ipython2",
   "version": "2.7.12"
  }
 },
 "nbformat": 4,
 "nbformat_minor": 2
}
